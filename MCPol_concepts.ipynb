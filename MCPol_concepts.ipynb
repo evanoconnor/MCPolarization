{
 "cells": [
  {
   "cell_type": "code",
   "execution_count": null,
   "id": "cfab8be6",
   "metadata": {},
   "outputs": [],
   "source": [
    "import numpy as np\n",
    "from numpy import inner,sqrt,sin,cos,arctan2,pi,add,array,zeros,sum,arccos,log,arctan,linspace\n",
    "from numpy.random import default_rng\n",
    "rng = default_rng()\n",
    "import matplotlib.pylab as plt\n",
    "from mpl_toolkits.mplot3d import Axes3D\n",
    "import matplotlib"
   ]
  },
  {
   "cell_type": "code",
   "execution_count": null,
   "id": "3060f8e3",
   "metadata": {},
   "outputs": [],
   "source": [
    "print(matplotlib.__version__)\n"
   ]
  },
  {
   "cell_type": "markdown",
   "id": "e4858af6",
   "metadata": {},
   "source": [
    "First, lets get familar with the random number generator\n",
    "==\n",
    "\n",
    "We use Numpy's random number generator (rng, imported above).  "
   ]
  },
  {
   "cell_type": "code",
   "execution_count": null,
   "id": "6b4527ea",
   "metadata": {},
   "outputs": [],
   "source": [
    "a = rng.random()\n",
    "print(\"This is a random number between 0 and 1:\",a)\n",
    "\n",
    "a = rng.random(2)\n",
    "print(\"This is two random numbers between 0 and 1:\",a[0],a[1])\n",
    "\n",
    "s=5.0\n",
    "t=5.8\n",
    "a = s + rng.random()*(t-s)\n",
    "print(\"This is a random number between s and t:\",a)\n",
    "\n",
    "a = rng.random(1000)\n",
    "print(\"This is a histogram of 1000 random numbers between 0 and 1 using 10 bins:\")\n",
    "plt.hist(a,bins=10)\n",
    "plt.xlabel(\"a\")\n",
    "plt.ylabel(\"Counts\")\n",
    "plt.show()"
   ]
  },
  {
   "cell_type": "markdown",
   "id": "b1150b31",
   "metadata": {},
   "source": [
    "Sampling Distriubtions\n",
    "==\n",
    "\n",
    "Often we want to sample distributions other than the uniform distribution from 0 to 1.  Above we have done a uniform distribution from s to t by scaling the output of the uniform distribution from 0 to 1.  We can do non uniform distributions to.\n",
    "\n",
    "There are several ways of doing this, and many that are computationally easier than the following method, but perhaps not as conceptually easy to understand.\n",
    "\n",
    "Example, pick two random numbers in the range and domain of a function.  So for f(x) = sin^2(x), choose a random x between 0 and pi, and a random y between min(f(x)) and max(f(x)).  If this (x,y) is less than (x,f(x)), use x as your random sample from the distribution.  If not, pick another random x and y and repeat until a pair works."
   ]
  },
  {
   "cell_type": "code",
   "execution_count": null,
   "id": "6c2a538a",
   "metadata": {},
   "outputs": [],
   "source": [
    "a = zeros(100000)\n",
    "for i in range(len(a)):\n",
    "    x = rng.random()*pi\n",
    "    y = rng.random()\n",
    "    while y>sin(x)**2:\n",
    "        x = rng.random()*pi\n",
    "        y = rng.random()            \n",
    "    a[i]=x\n",
    "plt.hist(a,bins=100,density=True)\n",
    "plt.plot(np.linspace(0,np.pi,1000),2.0/pi*sin(np.linspace(0,np.pi,1000))**2)\n",
    "plt.xlabel(\"x\")\n",
    "plt.ylabel(\"sin(x)^2/(pi/2)\")\n",
    "plt.show()"
   ]
  },
  {
   "cell_type": "markdown",
   "id": "a1209e40",
   "metadata": {},
   "source": [
    "Let's define a function for easy use"
   ]
  },
  {
   "cell_type": "code",
   "execution_count": null,
   "id": "39e329aa",
   "metadata": {},
   "outputs": [],
   "source": [
    "def random_sin2():\n",
    "    x = rng.random()*pi\n",
    "    y = rng.random()\n",
    "    while y>sin(x)**2:\n",
    "        x = rng.random()*pi\n",
    "        y = rng.random()            \n",
    "    return x\n",
    "\n",
    "print(\"A single value between 0 and pi weigthed by sin2:\", random_sin2())\n",
    "\n",
    "a = array([ random_sin2() for x in range(100000) ])\n",
    "\n",
    "plt.hist(a,bins=100,density=True)\n",
    "plt.plot(np.linspace(0,np.pi,1000),2.0/pi*sin(np.linspace(0,np.pi,1000))**2)\n",
    "plt.xlabel(\"x\")\n",
    "plt.ylabel(\"sin(x)^2/(pi/2)\")\n",
    "plt.show()"
   ]
  },
  {
   "cell_type": "markdown",
   "id": "278f8734",
   "metadata": {},
   "source": [
    "Random Velocities in 3-space (i.e. isotropic emission)\n",
    "==\n",
    "\n",
    "You may think in order to get a random velocities you could choose three random numbers (x,y,z) between -1 and 1, and then normalize the resulting vector.  This however, is incorrect.  It is not uniform.  One way to do it is to choose two random angles, a random phi between 0 and 2*pi and a random cost(theta) between -1 and 1 (note, not a random theta between 0 and pi, that is a different distribution).\n",
    "\n"
   ]
  },
  {
   "cell_type": "code",
   "execution_count": null,
   "id": "0330fc64",
   "metadata": {},
   "outputs": [],
   "source": [
    "%matplotlib widget\n",
    "phi = rng.random()*2.0*pi #uniform random between 0 and 2pi\n",
    "#costheta = 2.0*rng.random()-1.0 #unifrom random between -1 and 1\n",
    "costheta = cos(rng.random()*pi)\n",
    "sintheta = sqrt(1.0-costheta**2) #need sin(theta) for the cartesian cordinates\n",
    "direction = array([sintheta*cos(phi),sintheta*sin(phi),costheta])\n",
    "print(\"A random direction in 3-space is:\",direction)\n",
    "print(\"The phi is \",phi,\" and the costheta is \",costheta)\n",
    "\n",
    "def random_direction_incorrect():\n",
    "    phi = rng.random()*2.0*pi #uniform random between 0 and 2pi\n",
    "    costheta = cos(rng.random()*pi) #uniform in theta from 0 to pi\n",
    "    sintheta = sqrt(1.0-costheta**2) #need sin(theta) for the cartesian cordinates\n",
    "    return array([sintheta*cos(phi),sintheta*sin(phi),costheta])\n",
    "\n",
    "def random_direction():\n",
    "    phi = rng.random()*2.0*pi #uniform random between 0 and 2pi\n",
    "    costheta = 2.0*rng.random()-1.0 #unifrom random between -1 and 1\n",
    "    sintheta = sqrt(1.0-costheta**2) #need sin(theta) for the cartesian cordinates\n",
    "    return array([sintheta*cos(phi),sintheta*sin(phi),costheta])\n",
    "    \n",
    "a = array([ random_direction() for x in range(500) ])\n",
    "\n",
    "ax = plt.axes(projection='3d')\n",
    "ax.scatter3D(a.T[0],a.T[1],a.T[2])\n",
    "plt.show()\n"
   ]
  },
  {
   "cell_type": "markdown",
   "id": "1c38be12",
   "metadata": {},
   "source": [
    "Python Objects\n",
    "==\n",
    "\n",
    "Next we'll make some basic classes to make transporting MC photons easier"
   ]
  },
  {
   "cell_type": "code",
   "execution_count": null,
   "id": "59775904",
   "metadata": {},
   "outputs": [],
   "source": [
    "#for example, a photon class.  From this class we can make a photon\n",
    "#object and change its properties as it moves around.  The photon\n",
    "#will have a position, direction, and polarization\n",
    "class Photon:\n",
    "    def __init__(self,init_pos=None,init_vel=None):\n",
    "        #if not specified, set initial position to origin\n",
    "        self.pos = init_pos if init_pos is not None else array([0.0,0.0,0.0])\n",
    "\n",
    "        #if not specified, assume isotropic\n",
    "        #photons will travel with speed c=1\n",
    "        self.vel = init_vel if init_vel is not None else random_direction() \n",
    "\n",
    "        #polarization is perpendicular to vel.\n",
    "        #Find two vectors perp to vel, then take random \n",
    "        pvec = random_direction() \n",
    "        #pvec cross vel will be perp to vel.\n",
    "        pvec1=zeros(3)\n",
    "        pvec1[0] = pvec[1]*self.vel[2]-pvec[2]*self.vel[1]\n",
    "        pvec1[1] = -(pvec[0]*self.vel[2]-pvec[2]*self.vel[0])\n",
    "        pvec1[2] = pvec[0]*self.vel[1]-pvec[1]*self.vel[0]\n",
    "        pvec1 /= sqrt(inner(pvec1,pvec1)) #normalize\n",
    "\n",
    "        #pvec1 cross vel will be perp to vel and pvec1\n",
    "        pvec2=zeros(3)\n",
    "        pvec2[0] = pvec1[1]*self.vel[2]-pvec1[2]*self.vel[1]\n",
    "        pvec2[1] = -(pvec1[0]*self.vel[2]-pvec1[2]*self.vel[0])\n",
    "        pvec2[2] = pvec1[0]*self.vel[1]-pvec1[1]*self.vel[0]\n",
    "        pvec2 /= sqrt(inner(pvec2,pvec2)) #normalize\n",
    "\n",
    "        angle = rng.random()*2.0*pi\n",
    "        self.pol = add(pvec1*cos(angle),pvec2*sin(angle))\n",
    "        self.pol /= sqrt(inner(self.pol,self.pol))\n",
    "\n",
    "    #return the current speed  = norm(vel)\n",
    "    def speed(self):\n",
    "        return sqrt(inner(self.vel,self.vel))\n",
    "\n",
    "    #propagate the photon a time dt, update the position.\n",
    "    def move(self,dt):\n",
    "        self.pos += self.vel*dt\n",
    "\n",
    "    #scatter the photon into new direction, need to be careful with the new polarization\n",
    "    #after a scatter into new direction, the new polarization will be perp\n",
    "    #to the new direction, and parallel to the old polarization\n",
    "    def scatter(self,new_direction):\n",
    "        newpol = self.pol - inner(new_direction,self.pol)*new_direction\n",
    "        newpol /= sqrt(inner(newpol,newpol))\n",
    "        \n",
    "        self.vel = new_direction\n",
    "        self.pol = newpol\n",
    "        \n"
   ]
  },
  {
   "cell_type": "code",
   "execution_count": null,
   "id": "de9796f6",
   "metadata": {},
   "outputs": [],
   "source": [
    "test_photon = Photon()\n",
    "print(\"The position of the photon is:\",test_photon.pos)\n",
    "print(\"The velocity of the photon is:\",test_photon.vel,\"with a speed:\",test_photon.speed())\n",
    "print(\"The polarization of the photon is:\",test_photon.pol)\n",
    "print(\"As a check, the velocity and polarization are perpendicular:\",inner(test_photon.vel,test_photon.pol))\n",
    "\n",
    "#move the photon through a time dt\n",
    "test_photon.move(0.1)\n",
    "print(\"Moved. The position is now:\",test_photon.pos)\n",
    "\n",
    "#scatter the photon into a random direction (note, not Thomson scattering)\n",
    "test_photon.scatter(random_direction())\n",
    "print(\"Scattered. The velocity of the photon is:\",test_photon.vel,\"with a speed:\",test_photon.speed())\n",
    "print(\"The polarization of the photon is:\",test_photon.pol)\n",
    "print(\"As a check, the velocity and polarization are perpendicular:\",inner(test_photon.vel,test_photon.pol))"
   ]
  },
  {
   "cell_type": "code",
   "execution_count": null,
   "id": "b2cd4634-6157-4dcc-8780-5b4a82abd1d5",
   "metadata": {},
   "outputs": [],
   "source": []
  },
  {
   "cell_type": "code",
   "execution_count": null,
   "id": "a32451b8-36a7-43bc-b737-5be0e66861ad",
   "metadata": {},
   "outputs": [],
   "source": []
  }
 ],
 "metadata": {
  "kernelspec": {
   "display_name": "Python 3 (ipykernel)",
   "language": "python",
   "name": "python3"
  },
  "language_info": {
   "codemirror_mode": {
    "name": "ipython",
    "version": 3
   },
   "file_extension": ".py",
   "mimetype": "text/x-python",
   "name": "python",
   "nbconvert_exporter": "python",
   "pygments_lexer": "ipython3",
   "version": "3.11.5"
  }
 },
 "nbformat": 4,
 "nbformat_minor": 5
}
